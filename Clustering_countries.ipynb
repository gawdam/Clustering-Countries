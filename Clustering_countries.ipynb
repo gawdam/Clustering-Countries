{
 "cells": [
  {
   "cell_type": "code",
   "execution_count": 1,
   "id": "electoral-shipping",
   "metadata": {},
   "outputs": [],
   "source": [
    "import numpy as np\n",
    "import pandas as pd\n",
    "import matplotlib.pyplot as plt\n",
    "import seaborn as sns\n",
    "\n",
    "import datetime as dt\n",
    "\n",
    "import sklearn\n",
    "from sklearn.preprocessing import StandardScaler\n",
    "from sklearn.cluster import KMeans\n",
    "from sklearn.metrics import silhouette_score\n",
    "from sklearn.decomposition import PCA\n",
    "\n",
    "from scipy.cluster.hierarchy import linkage\n",
    "from scipy.cluster.hierarchy import dendrogram\n",
    "from scipy.cluster.hierarchy import cut_tree"
   ]
  },
  {
   "cell_type": "code",
   "execution_count": 2,
   "id": "backed-foster",
   "metadata": {},
   "outputs": [],
   "source": [
    "countries_data = pd.read_csv('Country-data.csv')"
   ]
  },
  {
   "cell_type": "code",
   "execution_count": 3,
   "id": "pacific-preliminary",
   "metadata": {},
   "outputs": [],
   "source": [
    "countries_data.exports = countries_data.exports*countries_data.gdpp/100"
   ]
  },
  {
   "cell_type": "code",
   "execution_count": 4,
   "id": "answering-stretch",
   "metadata": {},
   "outputs": [],
   "source": [
    "countries_data.health = countries_data.health*countries_data.gdpp/100"
   ]
  },
  {
   "cell_type": "code",
   "execution_count": 5,
   "id": "surprised-banks",
   "metadata": {},
   "outputs": [],
   "source": [
    "countries_data.imports = countries_data.imports*countries_data.gdpp/100"
   ]
  },
  {
   "cell_type": "code",
   "execution_count": 6,
   "id": "polish-beauty",
   "metadata": {},
   "outputs": [
    {
     "data": {
      "text/html": [
       "<div>\n",
       "<style scoped>\n",
       "    .dataframe tbody tr th:only-of-type {\n",
       "        vertical-align: middle;\n",
       "    }\n",
       "\n",
       "    .dataframe tbody tr th {\n",
       "        vertical-align: top;\n",
       "    }\n",
       "\n",
       "    .dataframe thead th {\n",
       "        text-align: right;\n",
       "    }\n",
       "</style>\n",
       "<table border=\"1\" class=\"dataframe\">\n",
       "  <thead>\n",
       "    <tr style=\"text-align: right;\">\n",
       "      <th></th>\n",
       "      <th>child_mort</th>\n",
       "      <th>exports</th>\n",
       "      <th>health</th>\n",
       "      <th>imports</th>\n",
       "      <th>income</th>\n",
       "      <th>inflation</th>\n",
       "      <th>life_expec</th>\n",
       "      <th>total_fer</th>\n",
       "      <th>gdpp</th>\n",
       "    </tr>\n",
       "  </thead>\n",
       "  <tbody>\n",
       "    <tr>\n",
       "      <th>count</th>\n",
       "      <td>167.000000</td>\n",
       "      <td>167.000000</td>\n",
       "      <td>167.000000</td>\n",
       "      <td>167.000000</td>\n",
       "      <td>167.000000</td>\n",
       "      <td>167.000000</td>\n",
       "      <td>167.000000</td>\n",
       "      <td>167.000000</td>\n",
       "      <td>167.000000</td>\n",
       "    </tr>\n",
       "    <tr>\n",
       "      <th>mean</th>\n",
       "      <td>38.270060</td>\n",
       "      <td>7420.618847</td>\n",
       "      <td>1056.733204</td>\n",
       "      <td>6588.352108</td>\n",
       "      <td>17144.688623</td>\n",
       "      <td>7.781832</td>\n",
       "      <td>70.555689</td>\n",
       "      <td>2.947964</td>\n",
       "      <td>12964.155689</td>\n",
       "    </tr>\n",
       "    <tr>\n",
       "      <th>std</th>\n",
       "      <td>40.328931</td>\n",
       "      <td>17973.885795</td>\n",
       "      <td>1801.408906</td>\n",
       "      <td>14710.810418</td>\n",
       "      <td>19278.067698</td>\n",
       "      <td>10.570704</td>\n",
       "      <td>8.893172</td>\n",
       "      <td>1.513848</td>\n",
       "      <td>18328.704809</td>\n",
       "    </tr>\n",
       "    <tr>\n",
       "      <th>min</th>\n",
       "      <td>2.600000</td>\n",
       "      <td>1.076920</td>\n",
       "      <td>12.821200</td>\n",
       "      <td>0.651092</td>\n",
       "      <td>609.000000</td>\n",
       "      <td>-4.210000</td>\n",
       "      <td>32.100000</td>\n",
       "      <td>1.150000</td>\n",
       "      <td>231.000000</td>\n",
       "    </tr>\n",
       "    <tr>\n",
       "      <th>25%</th>\n",
       "      <td>8.250000</td>\n",
       "      <td>447.140000</td>\n",
       "      <td>78.535500</td>\n",
       "      <td>640.215000</td>\n",
       "      <td>3355.000000</td>\n",
       "      <td>1.810000</td>\n",
       "      <td>65.300000</td>\n",
       "      <td>1.795000</td>\n",
       "      <td>1330.000000</td>\n",
       "    </tr>\n",
       "    <tr>\n",
       "      <th>50%</th>\n",
       "      <td>19.300000</td>\n",
       "      <td>1777.440000</td>\n",
       "      <td>321.886000</td>\n",
       "      <td>2045.580000</td>\n",
       "      <td>9960.000000</td>\n",
       "      <td>5.390000</td>\n",
       "      <td>73.100000</td>\n",
       "      <td>2.410000</td>\n",
       "      <td>4660.000000</td>\n",
       "    </tr>\n",
       "    <tr>\n",
       "      <th>75%</th>\n",
       "      <td>62.100000</td>\n",
       "      <td>7278.000000</td>\n",
       "      <td>976.940000</td>\n",
       "      <td>7719.600000</td>\n",
       "      <td>22800.000000</td>\n",
       "      <td>10.750000</td>\n",
       "      <td>76.800000</td>\n",
       "      <td>3.880000</td>\n",
       "      <td>14050.000000</td>\n",
       "    </tr>\n",
       "    <tr>\n",
       "      <th>max</th>\n",
       "      <td>208.000000</td>\n",
       "      <td>183750.000000</td>\n",
       "      <td>8663.600000</td>\n",
       "      <td>149100.000000</td>\n",
       "      <td>125000.000000</td>\n",
       "      <td>104.000000</td>\n",
       "      <td>82.800000</td>\n",
       "      <td>7.490000</td>\n",
       "      <td>105000.000000</td>\n",
       "    </tr>\n",
       "  </tbody>\n",
       "</table>\n",
       "</div>"
      ],
      "text/plain": [
       "       child_mort        exports       health        imports         income  \\\n",
       "count  167.000000     167.000000   167.000000     167.000000     167.000000   \n",
       "mean    38.270060    7420.618847  1056.733204    6588.352108   17144.688623   \n",
       "std     40.328931   17973.885795  1801.408906   14710.810418   19278.067698   \n",
       "min      2.600000       1.076920    12.821200       0.651092     609.000000   \n",
       "25%      8.250000     447.140000    78.535500     640.215000    3355.000000   \n",
       "50%     19.300000    1777.440000   321.886000    2045.580000    9960.000000   \n",
       "75%     62.100000    7278.000000   976.940000    7719.600000   22800.000000   \n",
       "max    208.000000  183750.000000  8663.600000  149100.000000  125000.000000   \n",
       "\n",
       "        inflation  life_expec   total_fer           gdpp  \n",
       "count  167.000000  167.000000  167.000000     167.000000  \n",
       "mean     7.781832   70.555689    2.947964   12964.155689  \n",
       "std     10.570704    8.893172    1.513848   18328.704809  \n",
       "min     -4.210000   32.100000    1.150000     231.000000  \n",
       "25%      1.810000   65.300000    1.795000    1330.000000  \n",
       "50%      5.390000   73.100000    2.410000    4660.000000  \n",
       "75%     10.750000   76.800000    3.880000   14050.000000  \n",
       "max    104.000000   82.800000    7.490000  105000.000000  "
      ]
     },
     "execution_count": 6,
     "metadata": {},
     "output_type": "execute_result"
    }
   ],
   "source": [
    "countries_data.describe()"
   ]
  },
  {
   "cell_type": "code",
   "execution_count": 7,
   "id": "novel-sphere",
   "metadata": {
    "scrolled": true
   },
   "outputs": [
    {
     "name": "stdout",
     "output_type": "stream",
     "text": [
      "<class 'pandas.core.frame.DataFrame'>\n",
      "RangeIndex: 167 entries, 0 to 166\n",
      "Data columns (total 10 columns):\n",
      " #   Column      Non-Null Count  Dtype  \n",
      "---  ------      --------------  -----  \n",
      " 0   country     167 non-null    object \n",
      " 1   child_mort  167 non-null    float64\n",
      " 2   exports     167 non-null    float64\n",
      " 3   health      167 non-null    float64\n",
      " 4   imports     167 non-null    float64\n",
      " 5   income      167 non-null    int64  \n",
      " 6   inflation   167 non-null    float64\n",
      " 7   life_expec  167 non-null    float64\n",
      " 8   total_fer   167 non-null    float64\n",
      " 9   gdpp        167 non-null    int64  \n",
      "dtypes: float64(7), int64(2), object(1)\n",
      "memory usage: 13.2+ KB\n"
     ]
    }
   ],
   "source": [
    "countries_data.info()"
   ]
  },
  {
   "cell_type": "code",
   "execution_count": 8,
   "id": "potential-button",
   "metadata": {},
   "outputs": [
    {
     "data": {
      "text/plain": [
       "<AxesSubplot:>"
      ]
     },
     "execution_count": 8,
     "metadata": {},
     "output_type": "execute_result"
    },
    {
     "data": {
      "image/png": "[encoded data removed]",
      "text/plain": [
       "<Figure size 432x288 with 2 Axes>"
      ]
     },
     "metadata": {
      "needs_background": "light"
     },
     "output_type": "display_data"
    }
   ],
   "source": [
    "#sns.corr(countries_data[['child_mort','exports','health','imports','income','inflation','life_expec','total_fer','gdpp']])\n",
    "sns.heatmap(countries_data[['health','total_fer']].corr(),annot=True)"
   ]
  },
  {
   "cell_type": "markdown",
   "id": "polished-neutral",
   "metadata": {},
   "source": [
    "# 2. Clean the data"
   ]
  },
  {
   "cell_type": "code",
   "execution_count": 9,
   "id": "naval-screening",
   "metadata": {},
   "outputs": [
    {
     "data": {
      "text/plain": [
       "country       0.0\n",
       "child_mort    0.0\n",
       "exports       0.0\n",
       "health        0.0\n",
       "imports       0.0\n",
       "income        0.0\n",
       "inflation     0.0\n",
       "life_expec    0.0\n",
       "total_fer     0.0\n",
       "gdpp          0.0\n",
       "dtype: float64"
      ]
     },
     "execution_count": 9,
     "metadata": {},
     "output_type": "execute_result"
    }
   ],
   "source": [
    "round(100*(countries_data.isnull().sum())/len(countries_data), 2)"
   ]
  },
  {
   "cell_type": "markdown",
   "id": "adult-department",
   "metadata": {},
   "source": [
    "### Scaling the data"
   ]
  },
  {
   "cell_type": "code",
   "execution_count": 10,
   "id": "ahead-discount",
   "metadata": {},
   "outputs": [],
   "source": [
    "scaler = StandardScaler()"
   ]
  },
  {
   "cell_type": "code",
   "execution_count": 11,
   "id": "unlikely-binding",
   "metadata": {},
   "outputs": [],
   "source": [
    "X = scaler.fit_transform(countries_data.loc[:,countries_data.columns != 'country'])"
   ]
  },
  {
   "cell_type": "code",
   "execution_count": 12,
   "id": "unique-trunk",
   "metadata": {
    "scrolled": true
   },
   "outputs": [
    {
     "data": {
      "text/plain": [
       "array([[ 1.29153238, -0.4110113 , -0.56503989, ..., -1.61909203,\n",
       "         1.90288227, -0.67917961],\n",
       "       [-0.5389489 , -0.35019096, -0.43921769, ...,  0.64786643,\n",
       "        -0.85997281, -0.48562324],\n",
       "       [-0.27283273, -0.31852577, -0.48482608, ...,  0.67042323,\n",
       "        -0.0384044 , -0.46537561],\n",
       "       ...,\n",
       "       [-0.37231541, -0.36146329, -0.53848844, ...,  0.28695762,\n",
       "        -0.66120626, -0.63775406],\n",
       "       [ 0.44841668, -0.39216643, -0.55059641, ..., -0.34463279,\n",
       "         1.14094382, -0.63775406],\n",
       "       [ 1.11495062, -0.38395214, -0.54049845, ..., -2.09278484,\n",
       "         1.6246091 , -0.62954556]])"
      ]
     },
     "execution_count": 12,
     "metadata": {},
     "output_type": "execute_result"
    }
   ],
   "source": [
    "X"
   ]
  },
  {
   "cell_type": "markdown",
   "id": "baking-contrast",
   "metadata": {},
   "source": [
    "### PCA"
   ]
  },
  {
   "cell_type": "code",
   "execution_count": 13,
   "id": "narrative-faculty",
   "metadata": {},
   "outputs": [],
   "source": [
    "pca = PCA()\n",
    "pca_vars = pca.fit(X)"
   ]
  },
  {
   "cell_type": "code",
   "execution_count": 14,
   "id": "oriented-unknown",
   "metadata": {},
   "outputs": [
    {
     "data": {
      "text/plain": [
       "array([[-0.31639186,  0.34288671,  0.358535  ,  0.34486492,  0.38004113,\n",
       "        -0.14308531,  0.34385651, -0.30284224,  0.39998795],\n",
       "       [ 0.47626735,  0.39731091,  0.1550529 ,  0.37078075,  0.12838448,\n",
       "         0.22126089, -0.36981973,  0.4597152 ,  0.2006241 ],\n",
       "       [-0.15001225, -0.03057367, -0.07570322, -0.07217386,  0.14576421,\n",
       "         0.94841868,  0.19675173, -0.07783431,  0.01033941],\n",
       "       [-0.14805195,  0.44942527, -0.59971228,  0.46179779, -0.15480592,\n",
       "        -0.00762798, -0.01839465, -0.21392805, -0.36477239],\n",
       "       [ 0.1019948 , -0.03853829, -0.49319984, -0.2527867 ,  0.79407469,\n",
       "        -0.13642345, -0.15404105, -0.02033568,  0.08750149],\n",
       "       [ 0.19658519, -0.03891112,  0.18069888, -0.01217988, -0.03814681,\n",
       "         0.10840284, -0.58600986, -0.75390075,  0.04538167],\n",
       "       [ 0.76126725, -0.01366973, -0.06461567,  0.02718244, -0.02311312,\n",
       "        -0.02207663,  0.58120846, -0.27314534, -0.04402264],\n",
       "       [ 0.00644411, -0.05526371,  0.43007213,  0.1311355 ,  0.3938113 ,\n",
       "        -0.00607016,  0.002966  ,  0.03429334, -0.79902242],\n",
       "       [-0.00495137, -0.71792388, -0.13034593,  0.66568664,  0.07901102,\n",
       "         0.01128137, -0.03159406,  0.02368185,  0.12846398]])"
      ]
     },
     "execution_count": 14,
     "metadata": {},
     "output_type": "execute_result"
    }
   ],
   "source": [
    "pca_vars.components_"
   ]
  },
  {
   "cell_type": "code",
   "execution_count": 15,
   "id": "distinct-laugh",
   "metadata": {},
   "outputs": [],
   "source": [
    "var_cumu = np.cumsum(pca.explained_variance_ratio_)"
   ]
  },
  {
   "cell_type": "code",
   "execution_count": 16,
   "id": "bridal-donna",
   "metadata": {},
   "outputs": [
    {
     "data": {
      "text/plain": [
       "array([0.58937298, 0.77382467, 0.87293939, 0.93366217, 0.96395389,\n",
       "       0.98855216, 0.9979496 , 0.99950602, 1.        ])"
      ]
     },
     "execution_count": 16,
     "metadata": {},
     "output_type": "execute_result"
    }
   ],
   "source": [
    "var_cumu"
   ]
  },
  {
   "cell_type": "code",
   "execution_count": 17,
   "id": "grand-escape",
   "metadata": {},
   "outputs": [
    {
     "data": {
      "text/plain": [
       "[<matplotlib.lines.Line2D at 0x22821a4bc70>]"
      ]
     },
     "execution_count": 17,
     "metadata": {},
     "output_type": "execute_result"
    },
    {
     "data": {
      "image/png": "[encoded data removed]",
      "text/plain": [
       "<Figure size 432x288 with 1 Axes>"
      ]
     },
     "metadata": {
      "needs_background": "light"
     },
     "output_type": "display_data"
    }
   ],
   "source": [
    "plt.plot(var_cumu)"
   ]
  },
  {
   "cell_type": "code",
   "execution_count": 18,
   "id": "agreed-claim",
   "metadata": {},
   "outputs": [],
   "source": [
    "pca = PCA(n_components=3,random_state=42)"
   ]
  },
  {
   "cell_type": "code",
   "execution_count": 19,
   "id": "minimal-lending",
   "metadata": {},
   "outputs": [],
   "source": [
    "cols = pca.fit_transform(X)"
   ]
  },
  {
   "cell_type": "code",
   "execution_count": 20,
   "id": "insured-softball",
   "metadata": {},
   "outputs": [],
   "source": [
    "cdf = pd.DataFrame(cols,columns=[\"PC1\",\"PC2\",\"PC3\"])"
   ]
  },
  {
   "cell_type": "code",
   "execution_count": 21,
   "id": "sublime-cologne",
   "metadata": {},
   "outputs": [],
   "source": [
    "cdf_wc = pd.concat([countries_data.country,cdf],axis=1)"
   ]
  },
  {
   "cell_type": "code",
   "execution_count": 22,
   "id": "swiss-variation",
   "metadata": {
    "scrolled": false
   },
   "outputs": [
    {
     "data": {
      "text/plain": [
       "<seaborn.axisgrid.PairGrid at 0x2280bec5c40>"
      ]
     },
     "execution_count": 22,
     "metadata": {},
     "output_type": "execute_result"
    },
    {
     "data": {
      "image/png": "[encoded data removed]",
      "text/plain": [
       "<Figure size 540x540 with 12 Axes>"
      ]
     },
     "metadata": {
      "needs_background": "light"
     },
     "output_type": "display_data"
    }
   ],
   "source": [
    "sns.pairplot(data=cdf_wc,x_vars=['PC1','PC2','PC3'],y_vars=['PC1','PC2','PC3'])"
   ]
  },
  {
   "cell_type": "code",
   "execution_count": 23,
   "id": "broken-scanning",
   "metadata": {
    "scrolled": true
   },
   "outputs": [
    {
     "data": {
      "text/plain": [
       "<AxesSubplot:>"
      ]
     },
     "execution_count": 23,
     "metadata": {},
     "output_type": "execute_result"
    },
    {
     "data": {
      "image/png": "[encoded data removed]",
      "text/plain": [
       "<Figure size 432x288 with 1 Axes>"
      ]
     },
     "metadata": {
      "needs_background": "light"
     },
     "output_type": "display_data"
    }
   ],
   "source": [
    "sns.boxplot(data=cdf)"
   ]
  },
  {
   "cell_type": "code",
   "execution_count": 24,
   "id": "unlike-provincial",
   "metadata": {},
   "outputs": [],
   "source": [
    "cols= ['PC1','PC2','PC3']\n",
    "Q3 = cdf_wc[cols].quantile(0.95)\n",
    "cdf_wc = cdf_wc[~(cdf_wc[cols] > Q3).any(axis=1)]"
   ]
  },
  {
   "cell_type": "code",
   "execution_count": 25,
   "id": "therapeutic-exposure",
   "metadata": {},
   "outputs": [
    {
     "data": {
      "text/html": [
       "<div>\n",
       "<style scoped>\n",
       "    .dataframe tbody tr th:only-of-type {\n",
       "        vertical-align: middle;\n",
       "    }\n",
       "\n",
       "    .dataframe tbody tr th {\n",
       "        vertical-align: top;\n",
       "    }\n",
       "\n",
       "    .dataframe thead th {\n",
       "        text-align: right;\n",
       "    }\n",
       "</style>\n",
       "<table border=\"1\" class=\"dataframe\">\n",
       "  <thead>\n",
       "    <tr style=\"text-align: right;\">\n",
       "      <th></th>\n",
       "      <th>country</th>\n",
       "      <th>PC1</th>\n",
       "      <th>PC2</th>\n",
       "      <th>PC3</th>\n",
       "    </tr>\n",
       "  </thead>\n",
       "  <tbody>\n",
       "    <tr>\n",
       "      <th>0</th>\n",
       "      <td>Afghanistan</td>\n",
       "      <td>-2.635575</td>\n",
       "      <td>1.472267</td>\n",
       "      <td>-0.549489</td>\n",
       "    </tr>\n",
       "    <tr>\n",
       "      <th>1</th>\n",
       "      <td>Albania</td>\n",
       "      <td>-0.024206</td>\n",
       "      <td>-1.429892</td>\n",
       "      <td>-0.014123</td>\n",
       "    </tr>\n",
       "    <tr>\n",
       "      <th>2</th>\n",
       "      <td>Algeria</td>\n",
       "      <td>-0.459557</td>\n",
       "      <td>-0.675495</td>\n",
       "      <td>0.959355</td>\n",
       "    </tr>\n",
       "    <tr>\n",
       "      <th>4</th>\n",
       "      <td>Antigua and Barbuda</td>\n",
       "      <td>0.648597</td>\n",
       "      <td>-1.023437</td>\n",
       "      <td>-0.257430</td>\n",
       "    </tr>\n",
       "    <tr>\n",
       "      <th>6</th>\n",
       "      <td>Armenia</td>\n",
       "      <td>-0.334555</td>\n",
       "      <td>-1.271889</td>\n",
       "      <td>0.190564</td>\n",
       "    </tr>\n",
       "    <tr>\n",
       "      <th>...</th>\n",
       "      <td>...</td>\n",
       "      <td>...</td>\n",
       "      <td>...</td>\n",
       "      <td>...</td>\n",
       "    </tr>\n",
       "    <tr>\n",
       "      <th>160</th>\n",
       "      <td>Uruguay</td>\n",
       "      <td>0.454814</td>\n",
       "      <td>-1.098889</td>\n",
       "      <td>0.045829</td>\n",
       "    </tr>\n",
       "    <tr>\n",
       "      <th>161</th>\n",
       "      <td>Uzbekistan</td>\n",
       "      <td>-1.031922</td>\n",
       "      <td>-0.561378</td>\n",
       "      <td>0.763442</td>\n",
       "    </tr>\n",
       "    <tr>\n",
       "      <th>162</th>\n",
       "      <td>Vanuatu</td>\n",
       "      <td>-1.175210</td>\n",
       "      <td>-0.275652</td>\n",
       "      <td>-0.667131</td>\n",
       "    </tr>\n",
       "    <tr>\n",
       "      <th>164</th>\n",
       "      <td>Vietnam</td>\n",
       "      <td>-0.594449</td>\n",
       "      <td>-1.076335</td>\n",
       "      <td>0.528875</td>\n",
       "    </tr>\n",
       "    <tr>\n",
       "      <th>166</th>\n",
       "      <td>Zambia</td>\n",
       "      <td>-2.644505</td>\n",
       "      <td>1.571953</td>\n",
       "      <td>-0.174685</td>\n",
       "    </tr>\n",
       "  </tbody>\n",
       "</table>\n",
       "<p>143 rows × 4 columns</p>\n",
       "</div>"
      ],
      "text/plain": [
       "                 country       PC1       PC2       PC3\n",
       "0            Afghanistan -2.635575  1.472267 -0.549489\n",
       "1                Albania -0.024206 -1.429892 -0.014123\n",
       "2                Algeria -0.459557 -0.675495  0.959355\n",
       "4    Antigua and Barbuda  0.648597 -1.023437 -0.257430\n",
       "6                Armenia -0.334555 -1.271889  0.190564\n",
       "..                   ...       ...       ...       ...\n",
       "160              Uruguay  0.454814 -1.098889  0.045829\n",
       "161           Uzbekistan -1.031922 -0.561378  0.763442\n",
       "162              Vanuatu -1.175210 -0.275652 -0.667131\n",
       "164              Vietnam -0.594449 -1.076335  0.528875\n",
       "166               Zambia -2.644505  1.571953 -0.174685\n",
       "\n",
       "[143 rows x 4 columns]"
      ]
     },
     "execution_count": 25,
     "metadata": {},
     "output_type": "execute_result"
    }
   ],
   "source": [
    "cdf_wc"
   ]
  },
  {
   "cell_type": "markdown",
   "id": "sensitive-advisory",
   "metadata": {},
   "source": [
    "# 3.Hierarchial clustering"
   ]
  },
  {
   "cell_type": "code",
   "execution_count": 26,
   "id": "minor-portable",
   "metadata": {},
   "outputs": [
    {
     "data": {
      "image/png": "[encoded data removed]",
      "text/plain": [
       "<Figure size 432x288 with 1 Axes>"
      ]
     },
     "metadata": {
      "needs_background": "light"
     },
     "output_type": "display_data"
    }
   ],
   "source": [
    "cdf = cdf_wc[['PC1','PC2','PC3']]\n",
    "mergings = linkage(cdf, method=\"single\", metric='euclidean')\n",
    "dendrogram(mergings)\n",
    "plt.show()"
   ]
  },
  {
   "cell_type": "code",
   "execution_count": 27,
   "id": "organizational-table",
   "metadata": {},
   "outputs": [
    {
     "data": {
      "image/png": "[encoded data removed]",
      "text/plain": [
       "<Figure size 432x288 with 1 Axes>"
      ]
     },
     "metadata": {
      "needs_background": "light"
     },
     "output_type": "display_data"
    }
   ],
   "source": [
    "mergings = linkage(cdf, method=\"complete\", metric='euclidean')\n",
    "dendrogram(mergings)\n",
    "plt.show()"
   ]
  },
  {
   "cell_type": "markdown",
   "id": "surface-gibraltar",
   "metadata": {},
   "source": [
    "# 4. K-means"
   ]
  },
  {
   "cell_type": "code",
   "execution_count": 28,
   "id": "spread-sharing",
   "metadata": {},
   "outputs": [
    {
     "data": {
      "text/plain": [
       "KMeans(max_iter=50, n_clusters=4)"
      ]
     },
     "execution_count": 28,
     "metadata": {},
     "output_type": "execute_result"
    }
   ],
   "source": [
    "# k-means with some arbitrary k\n",
    "kmeans = KMeans(n_clusters=4, max_iter=50)\n",
    "kmeans.fit(cdf)"
   ]
  },
  {
   "cell_type": "code",
   "execution_count": 29,
   "id": "heavy-oxford",
   "metadata": {},
   "outputs": [
    {
     "data": {
      "text/plain": [
       "[<matplotlib.lines.Line2D at 0x22823591160>]"
      ]
     },
     "execution_count": 29,
     "metadata": {},
     "output_type": "execute_result"
    },
    {
     "data": {
      "image/png": "[encoded data removed]",
      "text/plain": [
       "<Figure size 432x288 with 1 Axes>"
      ]
     },
     "metadata": {
      "needs_background": "light"
     },
     "output_type": "display_data"
    }
   ],
   "source": [
    "ssd = []\n",
    "range_n_clusters = [2, 3, 4, 5, 6, 7, 8]\n",
    "for num_clusters in range_n_clusters:\n",
    "    kmeans = KMeans(n_clusters=num_clusters, max_iter=50)\n",
    "    kmeans.fit(cdf)\n",
    "    \n",
    "    ssd.append(kmeans.inertia_)\n",
    "    \n",
    "# plot the SSDs for each n_clusters\n",
    "# ssd\n",
    "plt.plot(range_n_clusters,ssd)"
   ]
  },
  {
   "cell_type": "code",
   "execution_count": 30,
   "id": "patient-mailing",
   "metadata": {},
   "outputs": [
    {
     "name": "stdout",
     "output_type": "stream",
     "text": [
      "For n_clusters=2, the silhouette score is 0.46052165669756473\n",
      "For n_clusters=3, the silhouette score is 0.5205768566829136\n",
      "For n_clusters=4, the silhouette score is 0.433310717627258\n",
      "For n_clusters=5, the silhouette score is 0.3881542986126289\n",
      "For n_clusters=6, the silhouette score is 0.36384243443579983\n",
      "For n_clusters=7, the silhouette score is 0.38143189691502094\n",
      "For n_clusters=8, the silhouette score is 0.3893405804066851\n"
     ]
    }
   ],
   "source": [
    "# silhouette analysis\n",
    "range_n_clusters = [2, 3, 4, 5, 6, 7, 8]\n",
    "\n",
    "for num_clusters in range_n_clusters:\n",
    "    \n",
    "    # intialise kmeans\n",
    "    kmeans = KMeans(n_clusters=num_clusters, max_iter=50)\n",
    "    kmeans.fit(cdf)\n",
    "    \n",
    "    cluster_labels = kmeans.labels_\n",
    "    \n",
    "    # silhouette score\n",
    "    silhouette_avg = silhouette_score(cdf, cluster_labels)\n",
    "    print(\"For n_clusters={0}, the silhouette score is {1}\".format(num_clusters, silhouette_avg))\n",
    "    \n",
    "    "
   ]
  },
  {
   "cell_type": "code",
   "execution_count": 31,
   "id": "minor-malpractice",
   "metadata": {},
   "outputs": [
    {
     "data": {
      "text/html": [
       "<div>\n",
       "<style scoped>\n",
       "    .dataframe tbody tr th:only-of-type {\n",
       "        vertical-align: middle;\n",
       "    }\n",
       "\n",
       "    .dataframe tbody tr th {\n",
       "        vertical-align: top;\n",
       "    }\n",
       "\n",
       "    .dataframe thead th {\n",
       "        text-align: right;\n",
       "    }\n",
       "</style>\n",
       "<table border=\"1\" class=\"dataframe\">\n",
       "  <thead>\n",
       "    <tr style=\"text-align: right;\">\n",
       "      <th></th>\n",
       "      <th>PC1</th>\n",
       "      <th>PC2</th>\n",
       "      <th>PC3</th>\n",
       "      <th>cluster_id</th>\n",
       "    </tr>\n",
       "  </thead>\n",
       "  <tbody>\n",
       "    <tr>\n",
       "      <th>0</th>\n",
       "      <td>-2.635575</td>\n",
       "      <td>1.472267</td>\n",
       "      <td>-0.549489</td>\n",
       "      <td>5</td>\n",
       "    </tr>\n",
       "    <tr>\n",
       "      <th>1</th>\n",
       "      <td>-0.024206</td>\n",
       "      <td>-1.429892</td>\n",
       "      <td>-0.014123</td>\n",
       "      <td>3</td>\n",
       "    </tr>\n",
       "    <tr>\n",
       "      <th>2</th>\n",
       "      <td>-0.459557</td>\n",
       "      <td>-0.675495</td>\n",
       "      <td>0.959355</td>\n",
       "      <td>0</td>\n",
       "    </tr>\n",
       "    <tr>\n",
       "      <th>4</th>\n",
       "      <td>0.648597</td>\n",
       "      <td>-1.023437</td>\n",
       "      <td>-0.257430</td>\n",
       "      <td>3</td>\n",
       "    </tr>\n",
       "    <tr>\n",
       "      <th>6</th>\n",
       "      <td>-0.334555</td>\n",
       "      <td>-1.271889</td>\n",
       "      <td>0.190564</td>\n",
       "      <td>0</td>\n",
       "    </tr>\n",
       "  </tbody>\n",
       "</table>\n",
       "</div>"
      ],
      "text/plain": [
       "        PC1       PC2       PC3  cluster_id\n",
       "0 -2.635575  1.472267 -0.549489           5\n",
       "1 -0.024206 -1.429892 -0.014123           3\n",
       "2 -0.459557 -0.675495  0.959355           0\n",
       "4  0.648597 -1.023437 -0.257430           3\n",
       "6 -0.334555 -1.271889  0.190564           0"
      ]
     },
     "execution_count": 31,
     "metadata": {},
     "output_type": "execute_result"
    }
   ],
   "source": [
    "cdf['cluster_id'] = kmeans.labels_\n",
    "cdf.head()"
   ]
  },
  {
   "cell_type": "code",
   "execution_count": 32,
   "id": "light-protein",
   "metadata": {},
   "outputs": [
    {
     "data": {
      "image/png": "[encoded data removed]",
      "text/plain": [
       "<Figure size 236.375x180 with 1 Axes>"
      ]
     },
     "metadata": {
      "needs_background": "light"
     },
     "output_type": "display_data"
    }
   ],
   "source": [
    "sns.pairplot(x_vars='PC1',y_vars='PC2',data=cdf,hue='cluster_id')\n",
    "plt.show()"
   ]
  },
  {
   "cell_type": "code",
   "execution_count": 33,
   "id": "biological-spider",
   "metadata": {},
   "outputs": [
    {
     "data": {
      "text/html": [
       "<div>\n",
       "<style scoped>\n",
       "    .dataframe tbody tr th:only-of-type {\n",
       "        vertical-align: middle;\n",
       "    }\n",
       "\n",
       "    .dataframe tbody tr th {\n",
       "        vertical-align: top;\n",
       "    }\n",
       "\n",
       "    .dataframe thead th {\n",
       "        text-align: right;\n",
       "    }\n",
       "</style>\n",
       "<table border=\"1\" class=\"dataframe\">\n",
       "  <thead>\n",
       "    <tr style=\"text-align: right;\">\n",
       "      <th></th>\n",
       "      <th>PC1</th>\n",
       "      <th>PC2</th>\n",
       "      <th>PC3</th>\n",
       "      <th>cluster_id</th>\n",
       "    </tr>\n",
       "  </thead>\n",
       "  <tbody>\n",
       "    <tr>\n",
       "      <th>37</th>\n",
       "      <td>-3.114930</td>\n",
       "      <td>2.170747</td>\n",
       "      <td>0.361477</td>\n",
       "      <td>5</td>\n",
       "    </tr>\n",
       "    <tr>\n",
       "      <th>97</th>\n",
       "      <td>-2.944260</td>\n",
       "      <td>2.010103</td>\n",
       "      <td>-1.142610</td>\n",
       "      <td>5</td>\n",
       "    </tr>\n",
       "    <tr>\n",
       "      <th>112</th>\n",
       "      <td>-3.060794</td>\n",
       "      <td>2.105242</td>\n",
       "      <td>-1.325128</td>\n",
       "      <td>5</td>\n",
       "    </tr>\n",
       "  </tbody>\n",
       "</table>\n",
       "</div>"
      ],
      "text/plain": [
       "          PC1       PC2       PC3  cluster_id\n",
       "37  -3.114930  2.170747  0.361477           5\n",
       "97  -2.944260  2.010103 -1.142610           5\n",
       "112 -3.060794  2.105242 -1.325128           5"
      ]
     },
     "execution_count": 33,
     "metadata": {},
     "output_type": "execute_result"
    }
   ],
   "source": [
    "cdf[cdf['PC2']>1.8]"
   ]
  },
  {
   "cell_type": "code",
   "execution_count": 34,
   "id": "mighty-newsletter",
   "metadata": {},
   "outputs": [],
   "source": [
    "countries_df = cdf_wc = pd.concat([countries_data,cdf.cluster_id],axis=1)"
   ]
  },
  {
   "cell_type": "code",
   "execution_count": 35,
   "id": "chicken-section",
   "metadata": {},
   "outputs": [],
   "source": [
    "countries_df = countries_df.dropna()"
   ]
  },
  {
   "cell_type": "code",
   "execution_count": 36,
   "id": "sized-appearance",
   "metadata": {},
   "outputs": [
    {
     "data": {
      "text/html": [
       "<div>\n",
       "<style scoped>\n",
       "    .dataframe tbody tr th:only-of-type {\n",
       "        vertical-align: middle;\n",
       "    }\n",
       "\n",
       "    .dataframe tbody tr th {\n",
       "        vertical-align: top;\n",
       "    }\n",
       "\n",
       "    .dataframe thead th {\n",
       "        text-align: right;\n",
       "    }\n",
       "</style>\n",
       "<table border=\"1\" class=\"dataframe\">\n",
       "  <thead>\n",
       "    <tr style=\"text-align: right;\">\n",
       "      <th></th>\n",
       "      <th>country</th>\n",
       "      <th>child_mort</th>\n",
       "      <th>exports</th>\n",
       "      <th>health</th>\n",
       "      <th>imports</th>\n",
       "      <th>income</th>\n",
       "      <th>inflation</th>\n",
       "      <th>life_expec</th>\n",
       "      <th>total_fer</th>\n",
       "      <th>gdpp</th>\n",
       "      <th>cluster_id</th>\n",
       "    </tr>\n",
       "  </thead>\n",
       "  <tbody>\n",
       "    <tr>\n",
       "      <th>0</th>\n",
       "      <td>Afghanistan</td>\n",
       "      <td>90.2</td>\n",
       "      <td>55.30</td>\n",
       "      <td>41.9174</td>\n",
       "      <td>248.297</td>\n",
       "      <td>1610</td>\n",
       "      <td>9.44</td>\n",
       "      <td>56.2</td>\n",
       "      <td>5.82</td>\n",
       "      <td>553</td>\n",
       "      <td>5.0</td>\n",
       "    </tr>\n",
       "    <tr>\n",
       "      <th>1</th>\n",
       "      <td>Albania</td>\n",
       "      <td>16.6</td>\n",
       "      <td>1145.20</td>\n",
       "      <td>267.8950</td>\n",
       "      <td>1987.740</td>\n",
       "      <td>9930</td>\n",
       "      <td>4.49</td>\n",
       "      <td>76.3</td>\n",
       "      <td>1.65</td>\n",
       "      <td>4090</td>\n",
       "      <td>3.0</td>\n",
       "    </tr>\n",
       "    <tr>\n",
       "      <th>2</th>\n",
       "      <td>Algeria</td>\n",
       "      <td>27.3</td>\n",
       "      <td>1712.64</td>\n",
       "      <td>185.9820</td>\n",
       "      <td>1400.440</td>\n",
       "      <td>12900</td>\n",
       "      <td>16.10</td>\n",
       "      <td>76.5</td>\n",
       "      <td>2.89</td>\n",
       "      <td>4460</td>\n",
       "      <td>0.0</td>\n",
       "    </tr>\n",
       "    <tr>\n",
       "      <th>4</th>\n",
       "      <td>Antigua and Barbuda</td>\n",
       "      <td>10.3</td>\n",
       "      <td>5551.00</td>\n",
       "      <td>735.6600</td>\n",
       "      <td>7185.800</td>\n",
       "      <td>19100</td>\n",
       "      <td>1.44</td>\n",
       "      <td>76.8</td>\n",
       "      <td>2.13</td>\n",
       "      <td>12200</td>\n",
       "      <td>3.0</td>\n",
       "    </tr>\n",
       "    <tr>\n",
       "      <th>6</th>\n",
       "      <td>Armenia</td>\n",
       "      <td>18.1</td>\n",
       "      <td>669.76</td>\n",
       "      <td>141.6800</td>\n",
       "      <td>1458.660</td>\n",
       "      <td>6700</td>\n",
       "      <td>7.77</td>\n",
       "      <td>73.3</td>\n",
       "      <td>1.69</td>\n",
       "      <td>3220</td>\n",
       "      <td>0.0</td>\n",
       "    </tr>\n",
       "    <tr>\n",
       "      <th>...</th>\n",
       "      <td>...</td>\n",
       "      <td>...</td>\n",
       "      <td>...</td>\n",
       "      <td>...</td>\n",
       "      <td>...</td>\n",
       "      <td>...</td>\n",
       "      <td>...</td>\n",
       "      <td>...</td>\n",
       "      <td>...</td>\n",
       "      <td>...</td>\n",
       "      <td>...</td>\n",
       "    </tr>\n",
       "    <tr>\n",
       "      <th>160</th>\n",
       "      <td>Uruguay</td>\n",
       "      <td>10.6</td>\n",
       "      <td>3129.70</td>\n",
       "      <td>993.6500</td>\n",
       "      <td>3022.600</td>\n",
       "      <td>17100</td>\n",
       "      <td>4.91</td>\n",
       "      <td>76.4</td>\n",
       "      <td>2.08</td>\n",
       "      <td>11900</td>\n",
       "      <td>3.0</td>\n",
       "    </tr>\n",
       "    <tr>\n",
       "      <th>161</th>\n",
       "      <td>Uzbekistan</td>\n",
       "      <td>36.3</td>\n",
       "      <td>437.46</td>\n",
       "      <td>80.1780</td>\n",
       "      <td>393.300</td>\n",
       "      <td>4240</td>\n",
       "      <td>16.50</td>\n",
       "      <td>68.8</td>\n",
       "      <td>2.34</td>\n",
       "      <td>1380</td>\n",
       "      <td>0.0</td>\n",
       "    </tr>\n",
       "    <tr>\n",
       "      <th>162</th>\n",
       "      <td>Vanuatu</td>\n",
       "      <td>29.2</td>\n",
       "      <td>1384.02</td>\n",
       "      <td>155.9250</td>\n",
       "      <td>1565.190</td>\n",
       "      <td>2950</td>\n",
       "      <td>2.62</td>\n",
       "      <td>63.0</td>\n",
       "      <td>3.50</td>\n",
       "      <td>2970</td>\n",
       "      <td>4.0</td>\n",
       "    </tr>\n",
       "    <tr>\n",
       "      <th>164</th>\n",
       "      <td>Vietnam</td>\n",
       "      <td>23.3</td>\n",
       "      <td>943.20</td>\n",
       "      <td>89.6040</td>\n",
       "      <td>1050.620</td>\n",
       "      <td>4490</td>\n",
       "      <td>12.10</td>\n",
       "      <td>73.1</td>\n",
       "      <td>1.95</td>\n",
       "      <td>1310</td>\n",
       "      <td>0.0</td>\n",
       "    </tr>\n",
       "    <tr>\n",
       "      <th>166</th>\n",
       "      <td>Zambia</td>\n",
       "      <td>83.1</td>\n",
       "      <td>540.20</td>\n",
       "      <td>85.9940</td>\n",
       "      <td>451.140</td>\n",
       "      <td>3280</td>\n",
       "      <td>14.00</td>\n",
       "      <td>52.0</td>\n",
       "      <td>5.40</td>\n",
       "      <td>1460</td>\n",
       "      <td>5.0</td>\n",
       "    </tr>\n",
       "  </tbody>\n",
       "</table>\n",
       "<p>143 rows × 11 columns</p>\n",
       "</div>"
      ],
      "text/plain": [
       "                 country  child_mort  exports    health   imports  income  \\\n",
       "0            Afghanistan        90.2    55.30   41.9174   248.297    1610   \n",
       "1                Albania        16.6  1145.20  267.8950  1987.740    9930   \n",
       "2                Algeria        27.3  1712.64  185.9820  1400.440   12900   \n",
       "4    Antigua and Barbuda        10.3  5551.00  735.6600  7185.800   19100   \n",
       "6                Armenia        18.1   669.76  141.6800  1458.660    6700   \n",
       "..                   ...         ...      ...       ...       ...     ...   \n",
       "160              Uruguay        10.6  3129.70  993.6500  3022.600   17100   \n",
       "161           Uzbekistan        36.3   437.46   80.1780   393.300    4240   \n",
       "162              Vanuatu        29.2  1384.02  155.9250  1565.190    2950   \n",
       "164              Vietnam        23.3   943.20   89.6040  1050.620    4490   \n",
       "166               Zambia        83.1   540.20   85.9940   451.140    3280   \n",
       "\n",
       "     inflation  life_expec  total_fer   gdpp  cluster_id  \n",
       "0         9.44        56.2       5.82    553         5.0  \n",
       "1         4.49        76.3       1.65   4090         3.0  \n",
       "2        16.10        76.5       2.89   4460         0.0  \n",
       "4         1.44        76.8       2.13  12200         3.0  \n",
       "6         7.77        73.3       1.69   3220         0.0  \n",
       "..         ...         ...        ...    ...         ...  \n",
       "160       4.91        76.4       2.08  11900         3.0  \n",
       "161      16.50        68.8       2.34   1380         0.0  \n",
       "162       2.62        63.0       3.50   2970         4.0  \n",
       "164      12.10        73.1       1.95   1310         0.0  \n",
       "166      14.00        52.0       5.40   1460         5.0  \n",
       "\n",
       "[143 rows x 11 columns]"
      ]
     },
     "execution_count": 36,
     "metadata": {},
     "output_type": "execute_result"
    }
   ],
   "source": [
    "countries_df"
   ]
  },
  {
   "cell_type": "code",
   "execution_count": 37,
   "id": "velvet-psychology",
   "metadata": {
    "scrolled": true
   },
   "outputs": [
    {
     "data": {
      "text/plain": [
       "<AxesSubplot:xlabel='cluster_id', ylabel='child_mort'>"
      ]
     },
     "execution_count": 37,
     "metadata": {},
     "output_type": "execute_result"
    },
    {
     "data": {
      "image/png": "[encoded data removed]",
      "text/plain": [
       "<Figure size 432x288 with 1 Axes>"
      ]
     },
     "metadata": {
      "needs_background": "light"
     },
     "output_type": "display_data"
    }
   ],
   "source": [
    "sns.boxplot(x='cluster_id', y='child_mort', data=countries_df)"
   ]
  },
  {
   "cell_type": "code",
   "execution_count": 38,
   "id": "empirical-controversy",
   "metadata": {},
   "outputs": [
    {
     "data": {
      "text/plain": [
       "<AxesSubplot:xlabel='cluster_id', ylabel='exports'>"
      ]
     },
     "execution_count": 38,
     "metadata": {},
     "output_type": "execute_result"
    },
    {
     "data": {
      "image/png": "[encoded data removed]",
      "text/plain": [
       "<Figure size 432x288 with 1 Axes>"
      ]
     },
     "metadata": {
      "needs_background": "light"
     },
     "output_type": "display_data"
    }
   ],
   "source": [
    "sns.boxplot(x='cluster_id', y='exports', data=countries_df)"
   ]
  },
  {
   "cell_type": "code",
   "execution_count": 39,
   "id": "starting-annex",
   "metadata": {},
   "outputs": [
    {
     "data": {
      "text/plain": [
       "<AxesSubplot:xlabel='cluster_id', ylabel='health'>"
      ]
     },
     "execution_count": 39,
     "metadata": {},
     "output_type": "execute_result"
    },
    {
     "data": {
      "image/png": "[encoded data removed]",
      "text/plain": [
       "<Figure size 432x288 with 1 Axes>"
      ]
     },
     "metadata": {
      "needs_background": "light"
     },
     "output_type": "display_data"
    }
   ],
   "source": [
    "sns.boxplot(x='cluster_id', y='health', data=countries_df)"
   ]
  },
  {
   "cell_type": "code",
   "execution_count": 40,
   "id": "welsh-kruger",
   "metadata": {},
   "outputs": [
    {
     "data": {
      "text/plain": [
       "<AxesSubplot:xlabel='cluster_id', ylabel='imports'>"
      ]
     },
     "execution_count": 40,
     "metadata": {},
     "output_type": "execute_result"
    },
    {
     "data": {
      "image/png": "[encoded data removed]",
      "text/plain": [
       "<Figure size 432x288 with 1 Axes>"
      ]
     },
     "metadata": {
      "needs_background": "light"
     },
     "output_type": "display_data"
    }
   ],
   "source": [
    "sns.boxplot(x='cluster_id', y='imports', data=countries_df)"
   ]
  },
  {
   "cell_type": "code",
   "execution_count": 41,
   "id": "thick-identification",
   "metadata": {},
   "outputs": [
    {
     "data": {
      "text/plain": [
       "<AxesSubplot:xlabel='cluster_id', ylabel='income'>"
      ]
     },
     "execution_count": 41,
     "metadata": {},
     "output_type": "execute_result"
    },
    {
     "data": {
      "image/png": "[encoded data removed]",
      "text/plain": [
       "<Figure size 432x288 with 1 Axes>"
      ]
     },
     "metadata": {
      "needs_background": "light"
     },
     "output_type": "display_data"
    }
   ],
   "source": [
    "sns.boxplot(x='cluster_id', y='income', data=countries_df)"
   ]
  },
  {
   "cell_type": "code",
   "execution_count": 42,
   "id": "raised-proof",
   "metadata": {},
   "outputs": [
    {
     "data": {
      "text/plain": [
       "<AxesSubplot:xlabel='cluster_id', ylabel='inflation'>"
      ]
     },
     "execution_count": 42,
     "metadata": {},
     "output_type": "execute_result"
    },
    {
     "data": {
      "image/png": "[encoded data removed]",
      "text/plain": [
       "<Figure size 432x288 with 1 Axes>"
      ]
     },
     "metadata": {
      "needs_background": "light"
     },
     "output_type": "display_data"
    }
   ],
   "source": [
    "sns.boxplot(x='cluster_id', y='inflation', data=countries_df)"
   ]
  },
  {
   "cell_type": "code",
   "execution_count": 43,
   "id": "complimentary-spice",
   "metadata": {},
   "outputs": [
    {
     "data": {
      "text/plain": [
       "<AxesSubplot:xlabel='cluster_id', ylabel='life_expec'>"
      ]
     },
     "execution_count": 43,
     "metadata": {},
     "output_type": "execute_result"
    },
    {
     "data": {
      "image/png": "[encoded data removed]",
      "text/plain": [
       "<Figure size 432x288 with 1 Axes>"
      ]
     },
     "metadata": {
      "needs_background": "light"
     },
     "output_type": "display_data"
    }
   ],
   "source": [
    "sns.boxplot(x='cluster_id', y='life_expec', data=countries_df)"
   ]
  },
  {
   "cell_type": "code",
   "execution_count": 44,
   "id": "satisfactory-costa",
   "metadata": {},
   "outputs": [
    {
     "data": {
      "text/plain": [
       "<AxesSubplot:xlabel='cluster_id', ylabel='total_fer'>"
      ]
     },
     "execution_count": 44,
     "metadata": {},
     "output_type": "execute_result"
    },
    {
     "data": {
      "image/png": "[encoded data removed]",
      "text/plain": [
       "<Figure size 432x288 with 1 Axes>"
      ]
     },
     "metadata": {
      "needs_background": "light"
     },
     "output_type": "display_data"
    }
   ],
   "source": [
    "sns.boxplot(x='cluster_id', y='total_fer', data=countries_df)"
   ]
  },
  {
   "cell_type": "code",
   "execution_count": 45,
   "id": "lovely-occupation",
   "metadata": {},
   "outputs": [
    {
     "data": {
      "text/plain": [
       "<AxesSubplot:xlabel='cluster_id', ylabel='gdpp'>"
      ]
     },
     "execution_count": 45,
     "metadata": {},
     "output_type": "execute_result"
    },
    {
     "data": {
      "image/png": "[encoded data removed]",
      "text/plain": [
       "<Figure size 432x288 with 1 Axes>"
      ]
     },
     "metadata": {
      "needs_background": "light"
     },
     "output_type": "display_data"
    }
   ],
   "source": [
    "sns.boxplot(x='cluster_id', y='gdpp', data=countries_df)"
   ]
  },
  {
   "cell_type": "code",
   "execution_count": 46,
   "id": "finnish-friday",
   "metadata": {},
   "outputs": [
    {
     "data": {
      "text/html": [
       "<div>\n",
       "<style scoped>\n",
       "    .dataframe tbody tr th:only-of-type {\n",
       "        vertical-align: middle;\n",
       "    }\n",
       "\n",
       "    .dataframe tbody tr th {\n",
       "        vertical-align: top;\n",
       "    }\n",
       "\n",
       "    .dataframe thead th {\n",
       "        text-align: right;\n",
       "    }\n",
       "</style>\n",
       "<table border=\"1\" class=\"dataframe\">\n",
       "  <thead>\n",
       "    <tr style=\"text-align: right;\">\n",
       "      <th></th>\n",
       "      <th>country</th>\n",
       "      <th>child_mort</th>\n",
       "      <th>exports</th>\n",
       "      <th>health</th>\n",
       "      <th>imports</th>\n",
       "      <th>income</th>\n",
       "      <th>inflation</th>\n",
       "      <th>life_expec</th>\n",
       "      <th>total_fer</th>\n",
       "      <th>gdpp</th>\n",
       "      <th>cluster_id</th>\n",
       "    </tr>\n",
       "  </thead>\n",
       "  <tbody>\n",
       "    <tr>\n",
       "      <th>21</th>\n",
       "      <td>Botswana</td>\n",
       "      <td>52.5</td>\n",
       "      <td>2768.6000</td>\n",
       "      <td>527.0500</td>\n",
       "      <td>3257.550</td>\n",
       "      <td>13300</td>\n",
       "      <td>8.92</td>\n",
       "      <td>57.1</td>\n",
       "      <td>2.88</td>\n",
       "      <td>6350</td>\n",
       "      <td>2.0</td>\n",
       "    </tr>\n",
       "    <tr>\n",
       "      <th>36</th>\n",
       "      <td>Comoros</td>\n",
       "      <td>88.2</td>\n",
       "      <td>126.8850</td>\n",
       "      <td>34.6819</td>\n",
       "      <td>397.573</td>\n",
       "      <td>1410</td>\n",
       "      <td>3.87</td>\n",
       "      <td>65.9</td>\n",
       "      <td>4.75</td>\n",
       "      <td>769</td>\n",
       "      <td>2.0</td>\n",
       "    </tr>\n",
       "    <tr>\n",
       "      <th>50</th>\n",
       "      <td>Eritrea</td>\n",
       "      <td>55.2</td>\n",
       "      <td>23.0878</td>\n",
       "      <td>12.8212</td>\n",
       "      <td>112.306</td>\n",
       "      <td>1420</td>\n",
       "      <td>11.60</td>\n",
       "      <td>61.7</td>\n",
       "      <td>4.61</td>\n",
       "      <td>482</td>\n",
       "      <td>2.0</td>\n",
       "    </tr>\n",
       "    <tr>\n",
       "      <th>56</th>\n",
       "      <td>Gambia</td>\n",
       "      <td>80.3</td>\n",
       "      <td>133.7560</td>\n",
       "      <td>31.9778</td>\n",
       "      <td>239.974</td>\n",
       "      <td>1660</td>\n",
       "      <td>4.30</td>\n",
       "      <td>65.5</td>\n",
       "      <td>5.71</td>\n",
       "      <td>562</td>\n",
       "      <td>2.0</td>\n",
       "    </tr>\n",
       "    <tr>\n",
       "      <th>80</th>\n",
       "      <td>Kenya</td>\n",
       "      <td>62.2</td>\n",
       "      <td>200.1690</td>\n",
       "      <td>45.9325</td>\n",
       "      <td>324.912</td>\n",
       "      <td>2480</td>\n",
       "      <td>2.09</td>\n",
       "      <td>62.8</td>\n",
       "      <td>4.37</td>\n",
       "      <td>967</td>\n",
       "      <td>2.0</td>\n",
       "    </tr>\n",
       "    <tr>\n",
       "      <th>81</th>\n",
       "      <td>Kiribati</td>\n",
       "      <td>62.7</td>\n",
       "      <td>198.1700</td>\n",
       "      <td>168.3700</td>\n",
       "      <td>1190.510</td>\n",
       "      <td>1730</td>\n",
       "      <td>1.52</td>\n",
       "      <td>60.7</td>\n",
       "      <td>3.84</td>\n",
       "      <td>1490</td>\n",
       "      <td>2.0</td>\n",
       "    </tr>\n",
       "    <tr>\n",
       "      <th>84</th>\n",
       "      <td>Lao</td>\n",
       "      <td>78.9</td>\n",
       "      <td>403.5600</td>\n",
       "      <td>50.9580</td>\n",
       "      <td>562.020</td>\n",
       "      <td>3980</td>\n",
       "      <td>9.20</td>\n",
       "      <td>63.8</td>\n",
       "      <td>3.15</td>\n",
       "      <td>1140</td>\n",
       "      <td>2.0</td>\n",
       "    </tr>\n",
       "    <tr>\n",
       "      <th>88</th>\n",
       "      <td>Liberia</td>\n",
       "      <td>89.3</td>\n",
       "      <td>62.4570</td>\n",
       "      <td>38.5860</td>\n",
       "      <td>302.802</td>\n",
       "      <td>700</td>\n",
       "      <td>5.47</td>\n",
       "      <td>60.8</td>\n",
       "      <td>5.02</td>\n",
       "      <td>327</td>\n",
       "      <td>2.0</td>\n",
       "    </tr>\n",
       "    <tr>\n",
       "      <th>93</th>\n",
       "      <td>Madagascar</td>\n",
       "      <td>62.2</td>\n",
       "      <td>103.2500</td>\n",
       "      <td>15.5701</td>\n",
       "      <td>177.590</td>\n",
       "      <td>1390</td>\n",
       "      <td>8.79</td>\n",
       "      <td>60.8</td>\n",
       "      <td>4.60</td>\n",
       "      <td>413</td>\n",
       "      <td>2.0</td>\n",
       "    </tr>\n",
       "    <tr>\n",
       "      <th>108</th>\n",
       "      <td>Namibia</td>\n",
       "      <td>56.0</td>\n",
       "      <td>2480.8200</td>\n",
       "      <td>351.8820</td>\n",
       "      <td>3150.330</td>\n",
       "      <td>8460</td>\n",
       "      <td>3.56</td>\n",
       "      <td>58.6</td>\n",
       "      <td>3.60</td>\n",
       "      <td>5190</td>\n",
       "      <td>2.0</td>\n",
       "    </tr>\n",
       "    <tr>\n",
       "      <th>116</th>\n",
       "      <td>Pakistan</td>\n",
       "      <td>92.1</td>\n",
       "      <td>140.4000</td>\n",
       "      <td>22.8800</td>\n",
       "      <td>201.760</td>\n",
       "      <td>4280</td>\n",
       "      <td>10.90</td>\n",
       "      <td>65.3</td>\n",
       "      <td>3.85</td>\n",
       "      <td>1040</td>\n",
       "      <td>2.0</td>\n",
       "    </tr>\n",
       "    <tr>\n",
       "      <th>126</th>\n",
       "      <td>Rwanda</td>\n",
       "      <td>63.6</td>\n",
       "      <td>67.5600</td>\n",
       "      <td>59.1150</td>\n",
       "      <td>168.900</td>\n",
       "      <td>1350</td>\n",
       "      <td>2.61</td>\n",
       "      <td>64.6</td>\n",
       "      <td>4.51</td>\n",
       "      <td>563</td>\n",
       "      <td>2.0</td>\n",
       "    </tr>\n",
       "    <tr>\n",
       "      <th>129</th>\n",
       "      <td>Senegal</td>\n",
       "      <td>66.8</td>\n",
       "      <td>249.0000</td>\n",
       "      <td>56.6000</td>\n",
       "      <td>403.000</td>\n",
       "      <td>2180</td>\n",
       "      <td>1.85</td>\n",
       "      <td>64.0</td>\n",
       "      <td>5.06</td>\n",
       "      <td>1000</td>\n",
       "      <td>2.0</td>\n",
       "    </tr>\n",
       "    <tr>\n",
       "      <th>136</th>\n",
       "      <td>Solomon Islands</td>\n",
       "      <td>28.1</td>\n",
       "      <td>635.9700</td>\n",
       "      <td>110.2950</td>\n",
       "      <td>1047.480</td>\n",
       "      <td>1780</td>\n",
       "      <td>6.81</td>\n",
       "      <td>61.7</td>\n",
       "      <td>4.24</td>\n",
       "      <td>1290</td>\n",
       "      <td>2.0</td>\n",
       "    </tr>\n",
       "    <tr>\n",
       "      <th>137</th>\n",
       "      <td>South Africa</td>\n",
       "      <td>53.7</td>\n",
       "      <td>2082.0800</td>\n",
       "      <td>650.8320</td>\n",
       "      <td>1994.720</td>\n",
       "      <td>12000</td>\n",
       "      <td>6.35</td>\n",
       "      <td>54.3</td>\n",
       "      <td>2.59</td>\n",
       "      <td>7280</td>\n",
       "      <td>2.0</td>\n",
       "    </tr>\n",
       "    <tr>\n",
       "      <th>147</th>\n",
       "      <td>Tanzania</td>\n",
       "      <td>71.9</td>\n",
       "      <td>131.2740</td>\n",
       "      <td>42.1902</td>\n",
       "      <td>204.282</td>\n",
       "      <td>2090</td>\n",
       "      <td>9.25</td>\n",
       "      <td>59.3</td>\n",
       "      <td>5.43</td>\n",
       "      <td>702</td>\n",
       "      <td>2.0</td>\n",
       "    </tr>\n",
       "    <tr>\n",
       "      <th>150</th>\n",
       "      <td>Togo</td>\n",
       "      <td>90.3</td>\n",
       "      <td>196.1760</td>\n",
       "      <td>37.3320</td>\n",
       "      <td>279.624</td>\n",
       "      <td>1210</td>\n",
       "      <td>1.18</td>\n",
       "      <td>58.7</td>\n",
       "      <td>4.87</td>\n",
       "      <td>488</td>\n",
       "      <td>2.0</td>\n",
       "    </tr>\n",
       "  </tbody>\n",
       "</table>\n",
       "</div>"
      ],
      "text/plain": [
       "             country  child_mort    exports    health   imports  income  \\\n",
       "21          Botswana        52.5  2768.6000  527.0500  3257.550   13300   \n",
       "36           Comoros        88.2   126.8850   34.6819   397.573    1410   \n",
       "50           Eritrea        55.2    23.0878   12.8212   112.306    1420   \n",
       "56            Gambia        80.3   133.7560   31.9778   239.974    1660   \n",
       "80             Kenya        62.2   200.1690   45.9325   324.912    2480   \n",
       "81          Kiribati        62.7   198.1700  168.3700  1190.510    1730   \n",
       "84               Lao        78.9   403.5600   50.9580   562.020    3980   \n",
       "88           Liberia        89.3    62.4570   38.5860   302.802     700   \n",
       "93        Madagascar        62.2   103.2500   15.5701   177.590    1390   \n",
       "108          Namibia        56.0  2480.8200  351.8820  3150.330    8460   \n",
       "116         Pakistan        92.1   140.4000   22.8800   201.760    4280   \n",
       "126           Rwanda        63.6    67.5600   59.1150   168.900    1350   \n",
       "129          Senegal        66.8   249.0000   56.6000   403.000    2180   \n",
       "136  Solomon Islands        28.1   635.9700  110.2950  1047.480    1780   \n",
       "137     South Africa        53.7  2082.0800  650.8320  1994.720   12000   \n",
       "147         Tanzania        71.9   131.2740   42.1902   204.282    2090   \n",
       "150             Togo        90.3   196.1760   37.3320   279.624    1210   \n",
       "\n",
       "     inflation  life_expec  total_fer  gdpp  cluster_id  \n",
       "21        8.92        57.1       2.88  6350         2.0  \n",
       "36        3.87        65.9       4.75   769         2.0  \n",
       "50       11.60        61.7       4.61   482         2.0  \n",
       "56        4.30        65.5       5.71   562         2.0  \n",
       "80        2.09        62.8       4.37   967         2.0  \n",
       "81        1.52        60.7       3.84  1490         2.0  \n",
       "84        9.20        63.8       3.15  1140         2.0  \n",
       "88        5.47        60.8       5.02   327         2.0  \n",
       "93        8.79        60.8       4.60   413         2.0  \n",
       "108       3.56        58.6       3.60  5190         2.0  \n",
       "116      10.90        65.3       3.85  1040         2.0  \n",
       "126       2.61        64.6       4.51   563         2.0  \n",
       "129       1.85        64.0       5.06  1000         2.0  \n",
       "136       6.81        61.7       4.24  1290         2.0  \n",
       "137       6.35        54.3       2.59  7280         2.0  \n",
       "147       9.25        59.3       5.43   702         2.0  \n",
       "150       1.18        58.7       4.87   488         2.0  "
      ]
     },
     "execution_count": 46,
     "metadata": {},
     "output_type": "execute_result"
    }
   ],
   "source": [
    "countries_df[countries_df['cluster_id']==2]"
   ]
  },
  {
   "cell_type": "code",
   "execution_count": null,
   "id": "wicked-adult",
   "metadata": {},
   "outputs": [],
   "source": []
  }
 ],
 "metadata": {
  "kernelspec": {
   "display_name": "Python 3 (ipykernel)",
   "language": "python",
   "name": "python3"
  },
  "language_info": {
   "codemirror_mode": {
    "name": "ipython",
    "version": 3
   },
   "file_extension": ".py",
   "mimetype": "text/x-python",
   "name": "python",
   "nbconvert_exporter": "python",
   "pygments_lexer": "ipython3",
   "version": "3.8.7rc1"
  }
 },
 "nbformat": 4,
 "nbformat_minor": 5
}
